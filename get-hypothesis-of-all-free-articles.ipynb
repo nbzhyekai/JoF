{
 "metadata": {
  "language_info": {
   "codemirror_mode": {
    "name": "ipython",
    "version": 3
   },
   "file_extension": ".py",
   "mimetype": "text/x-python",
   "name": "python",
   "nbconvert_exporter": "python",
   "pygments_lexer": "ipython3",
   "version": "3.8.3-final"
  },
  "orig_nbformat": 2,
  "kernelspec": {
   "name": "python383jvsc74a57bd05af03e6f6884cdcbf495aa98cbd8d63d5d0ed05506dbd026ba0a4981213ae30b",
   "display_name": "Python 3.8.3 64-bit (conda)"
  }
 },
 "nbformat": 4,
 "nbformat_minor": 2,
 "cells": [
  {
   "cell_type": "code",
   "execution_count": 1,
   "metadata": {},
   "outputs": [],
   "source": [
    "import re\n",
    "import glob\n",
    "import pandas as pd\n",
    "from tqdm import tqdm"
   ]
  },
  {
   "cell_type": "code",
   "execution_count": 2,
   "metadata": {},
   "outputs": [],
   "source": [
    "# get all files\n",
    "import os\n",
    "os.chdir('JoF_2000_2021_full_text/')\n",
    "files = glob.glob(\"*.txt\")\n"
   ]
  },
  {
   "cell_type": "code",
   "execution_count": 3,
   "metadata": {},
   "outputs": [],
   "source": [
    "def get_text(path_to_file):\n",
    "    f = open(path_to_file, \"r\", encoding='utf8')\n",
    "    text = f.read()\n",
    "    return text"
   ]
  },
  {
   "cell_type": "code",
   "execution_count": 4,
   "metadata": {},
   "outputs": [],
   "source": [
    "def get_hypothesis(text):\n",
    "\n",
    "    # return extracted hypothesis and rule number\n",
    "\n",
    "    # tokenized_text = text.splitlines()\n",
    "    # print(tokenized_text)\n",
    "\n",
    "    hypotheses = []\n",
    "    rules = []\n",
    "\n",
    "    text = text.replace('\\n', '')\n",
    "\n",
    "    # case 2:\n",
    "    res = re.findall(r'we.{1,10}hypothesize that.{1,300}\\.', text, re.I)\n",
    "    if res:\n",
    "        hypotheses += res\n",
    "        rules += [2 for _ in range(len(res))]\n",
    "\n",
    "\n",
    "    # case 3:\n",
    "    res = re.findall(r'hypothesis \\d[a-z]?[\\s:].{1,300}\\.', text, re.I)\n",
    "    if res:\n",
    "        hypotheses += res\n",
    "        rules += [3 for _ in range(len(res))]\n",
    "\n",
    "\n",
    "    # case 4:\n",
    "    res = re.findall(r'Our.{1,10}hypothesis is that.{1,300}\\.', text, re.I)\n",
    "    if res:\n",
    "        hypotheses += res\n",
    "        rules += [4 for _ in range(len(res))]\n",
    "\n",
    "    res = re.findall(r'Our.{1,10}hypothesis was that.{1,300}\\.', text, re.I)\n",
    "    if res:\n",
    "        hypotheses += res\n",
    "        rules += [4 for _ in range(len(res))]\n",
    "\n",
    "\n",
    "    # case 5:\n",
    "    res = re.findall(r'we.{5,15}the hypothesis that.{1,300}\\.', text, re.I)\n",
    "    if res:\n",
    "        hypotheses += res\n",
    "        rules += [5 for _ in range(len(res))]\n",
    "\n",
    "\n",
    "    # case 6:\n",
    "    res = re.findall(r'.{100,400}\\. To test this hypothesis', text)\n",
    "    if res:\n",
    "        hypotheses += res\n",
    "        rules += [6 for _ in range(len(res))] \n",
    "\n",
    "    res = re.findall(r'.{100,400}\\. To test these hypotheses', text)\n",
    "    if res:\n",
    "        hypotheses += res\n",
    "        rules += [6 for _ in range(len(res))] \n",
    "\n",
    "\n",
    "    return hypotheses, rules"
   ]
  },
  {
   "cell_type": "code",
   "execution_count": 5,
   "metadata": {},
   "outputs": [],
   "source": [
    "def main(file):\n",
    "    text = get_text(file)\n",
    "    return get_hypothesis(text)"
   ]
  },
  {
   "cell_type": "code",
   "execution_count": 6,
   "metadata": {},
   "outputs": [
    {
     "output_type": "execute_result",
     "data": {
      "text/plain": [
       "([], [])"
      ]
     },
     "metadata": {},
     "execution_count": 6
    }
   ],
   "source": [
    "main(files[50])"
   ]
  },
  {
   "source": [
    "## get hypothesis from all free articles"
   ],
   "cell_type": "markdown",
   "metadata": {}
  },
  {
   "cell_type": "code",
   "execution_count": 7,
   "metadata": {},
   "outputs": [
    {
     "output_type": "stream",
     "name": "stderr",
     "text": [
      "100%|██████████| 1889/1889 [05:57<00:00,  5.28it/s]\n"
     ]
    }
   ],
   "source": [
    "results = {}\n",
    "H = pd.DataFrame()\n",
    "for file in tqdm(files):\n",
    "    # print(main(file))\n",
    "    hypotheses, rules = main(file)\n",
    "    # print('{:} hypotheses found in file {}'.format(len(hypotheses), file))    \n",
    "    if hypotheses:\n",
    "        file_names = [file for _ in range(len(hypotheses))]\n",
    "        df = pd.DataFrame({'file_name': file_names, 'hypothesis': hypotheses, 'rule': rules})\n",
    "        # print(df)\n",
    "        H = pd.concat([H, df])\n"
   ]
  },
  {
   "cell_type": "code",
   "execution_count": 8,
   "metadata": {},
   "outputs": [],
   "source": [
    "H = H.drop_duplicates()\n",
    "H.reset_index(inplace=True)\n",
    "H = H.drop('index', axis=1)\n"
   ]
  },
  {
   "cell_type": "code",
   "execution_count": 9,
   "metadata": {},
   "outputs": [
    {
     "output_type": "execute_result",
     "data": {
      "text/plain": [
       "  file_name                                         hypothesis  rule\n",
       "0    10.txt  We hypothesize that, by increasing the demand ...     2\n",
       "1    10.txt  we examine the hypothesis that investors who l...     5\n",
       "2  1002.txt  We reject the hypothesis that time effects can...     5\n",
       "3  1004.txt  Our hypothesis is that the past changes in pri...     4\n",
       "4  1004.txt  Our null hypothesis is that breaking the B/M r...     4"
      ],
      "text/html": "<div>\n<style scoped>\n    .dataframe tbody tr th:only-of-type {\n        vertical-align: middle;\n    }\n\n    .dataframe tbody tr th {\n        vertical-align: top;\n    }\n\n    .dataframe thead th {\n        text-align: right;\n    }\n</style>\n<table border=\"1\" class=\"dataframe\">\n  <thead>\n    <tr style=\"text-align: right;\">\n      <th></th>\n      <th>file_name</th>\n      <th>hypothesis</th>\n      <th>rule</th>\n    </tr>\n  </thead>\n  <tbody>\n    <tr>\n      <th>0</th>\n      <td>10.txt</td>\n      <td>We hypothesize that, by increasing the demand ...</td>\n      <td>2</td>\n    </tr>\n    <tr>\n      <th>1</th>\n      <td>10.txt</td>\n      <td>we examine the hypothesis that investors who l...</td>\n      <td>5</td>\n    </tr>\n    <tr>\n      <th>2</th>\n      <td>1002.txt</td>\n      <td>We reject the hypothesis that time effects can...</td>\n      <td>5</td>\n    </tr>\n    <tr>\n      <th>3</th>\n      <td>1004.txt</td>\n      <td>Our hypothesis is that the past changes in pri...</td>\n      <td>4</td>\n    </tr>\n    <tr>\n      <th>4</th>\n      <td>1004.txt</td>\n      <td>Our null hypothesis is that breaking the B/M r...</td>\n      <td>4</td>\n    </tr>\n  </tbody>\n</table>\n</div>"
     },
     "metadata": {},
     "execution_count": 9
    }
   ],
   "source": [
    "H.head()"
   ]
  },
  {
   "cell_type": "code",
   "execution_count": 10,
   "metadata": {},
   "outputs": [
    {
     "output_type": "execute_result",
     "data": {
      "text/plain": [
       "(1055, 3)"
      ]
     },
     "metadata": {},
     "execution_count": 10
    }
   ],
   "source": [
    "H.shape"
   ]
  },
  {
   "cell_type": "code",
   "execution_count": 11,
   "metadata": {},
   "outputs": [
    {
     "output_type": "execute_result",
     "data": {
      "text/plain": [
       "3    418\n",
       "2    212\n",
       "5    193\n",
       "6    132\n",
       "4    100\n",
       "Name: rule, dtype: int64"
      ]
     },
     "metadata": {},
     "execution_count": 11
    }
   ],
   "source": [
    "H.rule.value_counts()"
   ]
  },
  {
   "cell_type": "code",
   "execution_count": 12,
   "metadata": {},
   "outputs": [],
   "source": [
    "H.to_csv('JoF_extracted_hypothesis.csv', index=False)"
   ]
  },
  {
   "cell_type": "code",
   "execution_count": 13,
   "metadata": {},
   "outputs": [
    {
     "output_type": "execute_result",
     "data": {
      "text/plain": [
       "                                                 doi  \\\n",
       "0  https://onlinelibrary-wiley-com.libproxy1.nus....   \n",
       "1  https://onlinelibrary-wiley-com.libproxy1.nus....   \n",
       "2  https://onlinelibrary-wiley-com.libproxy1.nus....   \n",
       "3  https://onlinelibrary-wiley-com.libproxy1.nus....   \n",
       "4  https://onlinelibrary-wiley-com.libproxy1.nus....   \n",
       "\n",
       "                                               title  publish_date  \\\n",
       "0          Rent Extraction with Securities Plus Cash            16   \n",
       "1                                Are CEOs Different?             9   \n",
       "2  Subjective Cash Flow and Discount Rate Expecta...            26   \n",
       "3  Banking on Deposits: Maturity Transformation w...            15   \n",
       "4  For Richer, for Poorer: Bankers' Liability and...            11   \n",
       "\n",
       "  publish_month  publish_year volume              issue  \\\n",
       "0         March          2021   N.A.  Accepted Articles   \n",
       "1         March          2021   N.A.  Accepted Articles   \n",
       "2      February          2021   N.A.  Accepted Articles   \n",
       "3      February          2021   N.A.  Accepted Articles   \n",
       "4      February          2021   N.A.  Accepted Articles   \n",
       "\n",
       "                                            abstract full_text_filename  \n",
       "0  In our target‐initiated theory of takeovers, a...              0.txt  \n",
       "1  Using 2,603 executive assessments, we study ho...              1.txt  \n",
       "2  Why do stock prices vary? Using survey forecas...              2.txt  \n",
       "3  We show that maturity transformation does not ...              3.txt  \n",
       "4  We study whether banks are riskier if managers...              4.txt  "
      ],
      "text/html": "<div>\n<style scoped>\n    .dataframe tbody tr th:only-of-type {\n        vertical-align: middle;\n    }\n\n    .dataframe tbody tr th {\n        vertical-align: top;\n    }\n\n    .dataframe thead th {\n        text-align: right;\n    }\n</style>\n<table border=\"1\" class=\"dataframe\">\n  <thead>\n    <tr style=\"text-align: right;\">\n      <th></th>\n      <th>doi</th>\n      <th>title</th>\n      <th>publish_date</th>\n      <th>publish_month</th>\n      <th>publish_year</th>\n      <th>volume</th>\n      <th>issue</th>\n      <th>abstract</th>\n      <th>full_text_filename</th>\n    </tr>\n  </thead>\n  <tbody>\n    <tr>\n      <th>0</th>\n      <td>https://onlinelibrary-wiley-com.libproxy1.nus....</td>\n      <td>Rent Extraction with Securities Plus Cash</td>\n      <td>16</td>\n      <td>March</td>\n      <td>2021</td>\n      <td>N.A.</td>\n      <td>Accepted Articles</td>\n      <td>In our target‐initiated theory of takeovers, a...</td>\n      <td>0.txt</td>\n    </tr>\n    <tr>\n      <th>1</th>\n      <td>https://onlinelibrary-wiley-com.libproxy1.nus....</td>\n      <td>Are CEOs Different?</td>\n      <td>9</td>\n      <td>March</td>\n      <td>2021</td>\n      <td>N.A.</td>\n      <td>Accepted Articles</td>\n      <td>Using 2,603 executive assessments, we study ho...</td>\n      <td>1.txt</td>\n    </tr>\n    <tr>\n      <th>2</th>\n      <td>https://onlinelibrary-wiley-com.libproxy1.nus....</td>\n      <td>Subjective Cash Flow and Discount Rate Expecta...</td>\n      <td>26</td>\n      <td>February</td>\n      <td>2021</td>\n      <td>N.A.</td>\n      <td>Accepted Articles</td>\n      <td>Why do stock prices vary? Using survey forecas...</td>\n      <td>2.txt</td>\n    </tr>\n    <tr>\n      <th>3</th>\n      <td>https://onlinelibrary-wiley-com.libproxy1.nus....</td>\n      <td>Banking on Deposits: Maturity Transformation w...</td>\n      <td>15</td>\n      <td>February</td>\n      <td>2021</td>\n      <td>N.A.</td>\n      <td>Accepted Articles</td>\n      <td>We show that maturity transformation does not ...</td>\n      <td>3.txt</td>\n    </tr>\n    <tr>\n      <th>4</th>\n      <td>https://onlinelibrary-wiley-com.libproxy1.nus....</td>\n      <td>For Richer, for Poorer: Bankers' Liability and...</td>\n      <td>11</td>\n      <td>February</td>\n      <td>2021</td>\n      <td>N.A.</td>\n      <td>Accepted Articles</td>\n      <td>We study whether banks are riskier if managers...</td>\n      <td>4.txt</td>\n    </tr>\n  </tbody>\n</table>\n</div>"
     },
     "metadata": {},
     "execution_count": 13
    }
   ],
   "source": [
    "JoF_metadata = pd.read_csv('../JoF_2000_2021.csv', index_col=0)\n",
    "JoF_metadata.head()"
   ]
  },
  {
   "cell_type": "code",
   "execution_count": 16,
   "metadata": {},
   "outputs": [],
   "source": [
    "H_merged = pd.merge(JoF_metadata, H, how='right', left_on='full_text_filename', right_on='file_name')\n",
    "H_merged = H_merged.drop('file_name', axis=1)"
   ]
  },
  {
   "cell_type": "code",
   "execution_count": 17,
   "metadata": {},
   "outputs": [
    {
     "output_type": "execute_result",
     "data": {
      "text/plain": [
       "                                                 doi  \\\n",
       "0  https://onlinelibrary-wiley-com.libproxy1.nus....   \n",
       "1  https://onlinelibrary-wiley-com.libproxy1.nus....   \n",
       "2  https://onlinelibrary-wiley-com.libproxy1.nus....   \n",
       "3  https://onlinelibrary-wiley-com.libproxy1.nus....   \n",
       "4  https://onlinelibrary-wiley-com.libproxy1.nus....   \n",
       "\n",
       "                                               title  publish_date  \\\n",
       "0  The Economics of Hedge Fund Startups: Theory a...             5   \n",
       "1  The Economics of Hedge Fund Startups: Theory a...             5   \n",
       "2  The Economics of Hedge Fund Startups: Theory a...             5   \n",
       "3  The Economics of Hedge Fund Startups: Theory a...             5   \n",
       "4  The Economics of Hedge Fund Startups: Theory a...             5   \n",
       "\n",
       "  publish_month  publish_year volume              issue  \\\n",
       "0      February          2021   N.A.  Accepted Articles   \n",
       "1      February          2021   N.A.  Accepted Articles   \n",
       "2      February          2021   N.A.  Accepted Articles   \n",
       "3      February          2021   N.A.  Accepted Articles   \n",
       "4      February          2021   N.A.  Accepted Articles   \n",
       "\n",
       "                                            abstract full_text_filename  \\\n",
       "0  This paper examines how market frictions influ...              7.txt   \n",
       "1  This paper examines how market frictions influ...              7.txt   \n",
       "2  This paper examines how market frictions influ...              7.txt   \n",
       "3  This paper examines how market frictions influ...              7.txt   \n",
       "4  This paper examines how market frictions influ...              7.txt   \n",
       "\n",
       "                                          hypothesis  rule  \n",
       "0  HYPOTHESIS 1 (Two types of inceptions): Hot in...     3  \n",
       "1  HYPOTHESIS 2 (Value‐creating inceptions): Ince...     3  \n",
       "2  HYPOTHESIS 3 (The impact of family structure o...     3  \n",
       "3  HYPOTHESIS 4 (Two types of inceptions within f...     3  \n",
       "4  Hypothesis 3 that stand‐alone inceptions outpe...     3  "
      ],
      "text/html": "<div>\n<style scoped>\n    .dataframe tbody tr th:only-of-type {\n        vertical-align: middle;\n    }\n\n    .dataframe tbody tr th {\n        vertical-align: top;\n    }\n\n    .dataframe thead th {\n        text-align: right;\n    }\n</style>\n<table border=\"1\" class=\"dataframe\">\n  <thead>\n    <tr style=\"text-align: right;\">\n      <th></th>\n      <th>doi</th>\n      <th>title</th>\n      <th>publish_date</th>\n      <th>publish_month</th>\n      <th>publish_year</th>\n      <th>volume</th>\n      <th>issue</th>\n      <th>abstract</th>\n      <th>full_text_filename</th>\n      <th>hypothesis</th>\n      <th>rule</th>\n    </tr>\n  </thead>\n  <tbody>\n    <tr>\n      <th>0</th>\n      <td>https://onlinelibrary-wiley-com.libproxy1.nus....</td>\n      <td>The Economics of Hedge Fund Startups: Theory a...</td>\n      <td>5</td>\n      <td>February</td>\n      <td>2021</td>\n      <td>N.A.</td>\n      <td>Accepted Articles</td>\n      <td>This paper examines how market frictions influ...</td>\n      <td>7.txt</td>\n      <td>HYPOTHESIS 1 (Two types of inceptions): Hot in...</td>\n      <td>3</td>\n    </tr>\n    <tr>\n      <th>1</th>\n      <td>https://onlinelibrary-wiley-com.libproxy1.nus....</td>\n      <td>The Economics of Hedge Fund Startups: Theory a...</td>\n      <td>5</td>\n      <td>February</td>\n      <td>2021</td>\n      <td>N.A.</td>\n      <td>Accepted Articles</td>\n      <td>This paper examines how market frictions influ...</td>\n      <td>7.txt</td>\n      <td>HYPOTHESIS 2 (Value‐creating inceptions): Ince...</td>\n      <td>3</td>\n    </tr>\n    <tr>\n      <th>2</th>\n      <td>https://onlinelibrary-wiley-com.libproxy1.nus....</td>\n      <td>The Economics of Hedge Fund Startups: Theory a...</td>\n      <td>5</td>\n      <td>February</td>\n      <td>2021</td>\n      <td>N.A.</td>\n      <td>Accepted Articles</td>\n      <td>This paper examines how market frictions influ...</td>\n      <td>7.txt</td>\n      <td>HYPOTHESIS 3 (The impact of family structure o...</td>\n      <td>3</td>\n    </tr>\n    <tr>\n      <th>3</th>\n      <td>https://onlinelibrary-wiley-com.libproxy1.nus....</td>\n      <td>The Economics of Hedge Fund Startups: Theory a...</td>\n      <td>5</td>\n      <td>February</td>\n      <td>2021</td>\n      <td>N.A.</td>\n      <td>Accepted Articles</td>\n      <td>This paper examines how market frictions influ...</td>\n      <td>7.txt</td>\n      <td>HYPOTHESIS 4 (Two types of inceptions within f...</td>\n      <td>3</td>\n    </tr>\n    <tr>\n      <th>4</th>\n      <td>https://onlinelibrary-wiley-com.libproxy1.nus....</td>\n      <td>The Economics of Hedge Fund Startups: Theory a...</td>\n      <td>5</td>\n      <td>February</td>\n      <td>2021</td>\n      <td>N.A.</td>\n      <td>Accepted Articles</td>\n      <td>This paper examines how market frictions influ...</td>\n      <td>7.txt</td>\n      <td>Hypothesis 3 that stand‐alone inceptions outpe...</td>\n      <td>3</td>\n    </tr>\n  </tbody>\n</table>\n</div>"
     },
     "metadata": {},
     "execution_count": 17
    }
   ],
   "source": [
    "H_merged.head()"
   ]
  },
  {
   "cell_type": "code",
   "execution_count": 18,
   "metadata": {},
   "outputs": [],
   "source": [
    "H_merged.to_csv('../JoF_extracted_hypothesis_with_paper_info.csv')"
   ]
  },
  {
   "cell_type": "code",
   "execution_count": null,
   "metadata": {},
   "outputs": [],
   "source": []
  }
 ]
}